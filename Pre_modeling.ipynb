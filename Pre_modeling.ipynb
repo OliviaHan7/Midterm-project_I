{
 "cells": [
  {
   "cell_type": "code",
   "execution_count": 104,
   "id": "e3fb69d0",
   "metadata": {},
   "outputs": [],
   "source": [
    "import numpy as np\n",
    "import pandas as pd\n",
    "import matplotlib.pyplot as plt\n",
    "import seaborn as sns\n",
    "import pickle\n",
    "from datetime import datetime \n",
    "from sklearn.model_selection import train_test_split\n",
    "from sklearn.preprocessing import StandardScaler"
   ]
  },
  {
   "cell_type": "code",
   "execution_count": 2,
   "id": "b9511157",
   "metadata": {},
   "outputs": [],
   "source": [
    "df_all_features = pd.read_csv('df_merged_final.csv',index_col=[0])"
   ]
  },
  {
   "cell_type": "code",
   "execution_count": 3,
   "id": "05208772",
   "metadata": {},
   "outputs": [
    {
     "data": {
      "text/plain": [
       "Index(['fl_date', 'mkt_unique_carrier', 'branded_code_share', 'mkt_carrier',\n",
       "       'mkt_carrier_fl_num', 'op_unique_carrier', 'tail_num',\n",
       "       'op_carrier_fl_num', 'origin_airport_id', 'origin', 'origin_city_name',\n",
       "       'dest_airport_id', 'dest', 'dest_city_name', 'crs_dep_time', 'dep_time',\n",
       "       'dep_delay', 'taxi_out', 'wheels_off', 'wheels_on', 'taxi_in',\n",
       "       'crs_arr_time', 'arr_time', 'arr_delay', 'cancelled', 'diverted', 'dup',\n",
       "       'crs_elapsed_time', 'actual_elapsed_time', 'air_time', 'flights',\n",
       "       'distance', 'OriginmaxtempC', 'OriginmintempC', 'Origintotalsnow_cm',\n",
       "       'Originsunhour', 'OriginfeelslikeC', 'OriginheatindexC',\n",
       "       'OriginwindchillC', 'OriginwindgustKmph', 'Origincloudcover',\n",
       "       'Originhumidity', 'OriginprecipMM', 'OrigintempC', 'Originvisibility',\n",
       "       'OriginwindspeedKmph', 'DestinmaxtempC', 'DestinmintempC',\n",
       "       'Destintotalsnow_cm', 'Destinsunhour', 'DestinfeelslikeC',\n",
       "       'DestinheatindexC', 'DestinwindchillC', 'DestinwindgustKmph',\n",
       "       'Destincloudcover', 'Destinhumidity', 'DestinprecipMM', 'DestintempC',\n",
       "       'Destinvisibility', 'DestinwindspeedKmph'],\n",
       "      dtype='object')"
      ]
     },
     "execution_count": 3,
     "metadata": {},
     "output_type": "execute_result"
    }
   ],
   "source": [
    "df_all_features.columns"
   ]
  },
  {
   "cell_type": "code",
   "execution_count": 61,
   "id": "91819313",
   "metadata": {},
   "outputs": [],
   "source": [
    "dff=pd.read_csv('df_merged_data.csv',index_col=[0])"
   ]
  },
  {
   "cell_type": "code",
   "execution_count": 62,
   "id": "97ac4eab",
   "metadata": {},
   "outputs": [
    {
     "data": {
      "text/plain": [
       "0         2018-01-01\n",
       "1         2018-01-01\n",
       "2         2018-01-01\n",
       "3         2018-01-01\n",
       "4         2018-01-01\n",
       "             ...    \n",
       "715366    2019-01-31\n",
       "715367    2019-01-31\n",
       "715368    2019-01-31\n",
       "715369    2019-01-31\n",
       "715370    2019-01-31\n",
       "Name: fl_date, Length: 715371, dtype: object"
      ]
     },
     "execution_count": 62,
     "metadata": {},
     "output_type": "execute_result"
    }
   ],
   "source": [
    "dff.fl_date."
   ]
  },
  {
   "cell_type": "code",
   "execution_count": 63,
   "id": "c5437494",
   "metadata": {},
   "outputs": [],
   "source": [
    "df=pd.read_csv('df_merged_data.csv',index_col=[0])"
   ]
  },
  {
   "cell_type": "code",
   "execution_count": 64,
   "id": "d2921410",
   "metadata": {},
   "outputs": [],
   "source": [
    "#Converting flight date to a Datetime object and then computing which weekday the flight was on\n",
    "df['fl_date']= pd.to_datetime(df['fl_date'])\n",
    "df['DayOfWeek']=df.fl_date.dt.weekday\n"
   ]
  },
  {
   "cell_type": "code",
   "execution_count": 65,
   "id": "406c1a6f",
   "metadata": {},
   "outputs": [],
   "source": [
    "# df.columns"
   ]
  },
  {
   "cell_type": "code",
   "execution_count": 66,
   "id": "302d2faf",
   "metadata": {},
   "outputs": [],
   "source": [
    "cols_todrop=['Unnamed: 0','fl_date','actual_elapsed_time','cancelled', 'diverted','dep_time','air_time',\n",
    "            'arr_time','dep_delay']"
   ]
  },
  {
   "cell_type": "code",
   "execution_count": 67,
   "id": "40701e0b",
   "metadata": {},
   "outputs": [],
   "source": [
    "df.drop(cols_todrop,axis=1,inplace=True)"
   ]
  },
  {
   "cell_type": "code",
   "execution_count": 68,
   "id": "70caf0d6",
   "metadata": {},
   "outputs": [
    {
     "data": {
      "text/plain": [
       "Index(['op_unique_carrier', 'crs_dep_time', 'crs_arr_time', 'arr_delay',\n",
       "       'crs_elapsed_time', 'Origintotalsnow_cm', 'OriginwindchillC',\n",
       "       'OriginwindgustKmph', 'Origincloudcover', 'OriginprecipMM',\n",
       "       'Originvisibility', 'Destintotalsnow_cm', 'DestinwindchillC',\n",
       "       'DestinwindgustKmph', 'Destincloudcover', 'DestinprecipMM',\n",
       "       'Destinvisibility', 'op_unique_carrier_9E', 'op_unique_carrier_9K',\n",
       "       'op_unique_carrier_AA', 'op_unique_carrier_AS', 'op_unique_carrier_AX',\n",
       "       'op_unique_carrier_B6', 'op_unique_carrier_C5', 'op_unique_carrier_CP',\n",
       "       'op_unique_carrier_DL', 'op_unique_carrier_EM', 'op_unique_carrier_EV',\n",
       "       'op_unique_carrier_F9', 'op_unique_carrier_G4', 'op_unique_carrier_G7',\n",
       "       'op_unique_carrier_HA', 'op_unique_carrier_KS', 'op_unique_carrier_MQ',\n",
       "       'op_unique_carrier_NK', 'op_unique_carrier_OH', 'op_unique_carrier_OO',\n",
       "       'op_unique_carrier_PT', 'op_unique_carrier_QX', 'op_unique_carrier_UA',\n",
       "       'op_unique_carrier_VX', 'op_unique_carrier_WN', 'op_unique_carrier_YV',\n",
       "       'op_unique_carrier_YX', 'op_unique_carrier_ZW', 'DayOfWeek'],\n",
       "      dtype='object')"
      ]
     },
     "execution_count": 68,
     "metadata": {},
     "output_type": "execute_result"
    }
   ],
   "source": [
    "df.columns"
   ]
  },
  {
   "cell_type": "code",
   "execution_count": 69,
   "id": "a2d7aeb9",
   "metadata": {},
   "outputs": [],
   "source": [
    "#split"
   ]
  },
  {
   "cell_type": "code",
   "execution_count": 70,
   "id": "a81dc8ff",
   "metadata": {},
   "outputs": [],
   "source": [
    "X=df\n",
    "y=df['arr_delay']"
   ]
  },
  {
   "cell_type": "code",
   "execution_count": 88,
   "id": "282b328f",
   "metadata": {},
   "outputs": [],
   "source": [
    "X_train,X_test,y_train,y_test=train_test_split(X,y,train_size=0.75,random_state=10)"
   ]
  },
  {
   "cell_type": "code",
   "execution_count": 89,
   "id": "6b0fae08",
   "metadata": {},
   "outputs": [],
   "source": [
    "# X_test.drop(['op_unique_carrier','arr_delay'],axis=1,inplace=True)"
   ]
  },
  {
   "cell_type": "code",
   "execution_count": 90,
   "id": "517f0095",
   "metadata": {},
   "outputs": [],
   "source": [
    "#get average"
   ]
  },
  {
   "cell_type": "code",
   "execution_count": 91,
   "id": "dd4e4b3f",
   "metadata": {
    "scrolled": true
   },
   "outputs": [],
   "source": [
    "df_delay_ailine=X_train.groupby('op_unique_carrier')['arr_delay'].mean().reset_index()"
   ]
  },
  {
   "cell_type": "code",
   "execution_count": 92,
   "id": "31422c40",
   "metadata": {},
   "outputs": [],
   "source": [
    "#merge the average to X_train, X_test"
   ]
  },
  {
   "cell_type": "code",
   "execution_count": 93,
   "id": "0e5af3d9",
   "metadata": {
    "scrolled": true
   },
   "outputs": [],
   "source": [
    "df_delay_ailine=df_delay_ailine.rename(columns={'arr_delay':'arr_delay_airline'})"
   ]
  },
  {
   "cell_type": "code",
   "execution_count": 94,
   "id": "f8a08376",
   "metadata": {},
   "outputs": [],
   "source": [
    "X_train=X_train.merge(df_delay_ailine,left_on='op_unique_carrier',right_on='op_unique_carrier')"
   ]
  },
  {
   "cell_type": "code",
   "execution_count": 96,
   "id": "20cf8d1f",
   "metadata": {
    "scrolled": true
   },
   "outputs": [
    {
     "data": {
      "text/plain": [
       "Index(['op_unique_carrier', 'crs_dep_time', 'crs_arr_time', 'arr_delay',\n",
       "       'crs_elapsed_time', 'Origintotalsnow_cm', 'OriginwindchillC',\n",
       "       'OriginwindgustKmph', 'Origincloudcover', 'OriginprecipMM',\n",
       "       'Originvisibility', 'Destintotalsnow_cm', 'DestinwindchillC',\n",
       "       'DestinwindgustKmph', 'Destincloudcover', 'DestinprecipMM',\n",
       "       'Destinvisibility', 'op_unique_carrier_9E', 'op_unique_carrier_9K',\n",
       "       'op_unique_carrier_AA', 'op_unique_carrier_AS', 'op_unique_carrier_AX',\n",
       "       'op_unique_carrier_B6', 'op_unique_carrier_C5', 'op_unique_carrier_CP',\n",
       "       'op_unique_carrier_DL', 'op_unique_carrier_EM', 'op_unique_carrier_EV',\n",
       "       'op_unique_carrier_F9', 'op_unique_carrier_G4', 'op_unique_carrier_G7',\n",
       "       'op_unique_carrier_HA', 'op_unique_carrier_KS', 'op_unique_carrier_MQ',\n",
       "       'op_unique_carrier_NK', 'op_unique_carrier_OH', 'op_unique_carrier_OO',\n",
       "       'op_unique_carrier_PT', 'op_unique_carrier_QX', 'op_unique_carrier_UA',\n",
       "       'op_unique_carrier_VX', 'op_unique_carrier_WN', 'op_unique_carrier_YV',\n",
       "       'op_unique_carrier_YX', 'op_unique_carrier_ZW', 'DayOfWeek',\n",
       "       'arr_delay_airline'],\n",
       "      dtype='object')"
      ]
     },
     "execution_count": 96,
     "metadata": {},
     "output_type": "execute_result"
    }
   ],
   "source": [
    "X_train.columns"
   ]
  },
  {
   "cell_type": "code",
   "execution_count": 95,
   "id": "e32b96f7",
   "metadata": {},
   "outputs": [],
   "source": [
    "X_test=X_test.merge(df_delay_ailine,left_on='op_unique_carrier',right_on='op_unique_carrier')"
   ]
  },
  {
   "cell_type": "code",
   "execution_count": 97,
   "id": "f4d625d3",
   "metadata": {},
   "outputs": [
    {
     "data": {
      "text/plain": [
       "Index(['op_unique_carrier', 'crs_dep_time', 'crs_arr_time', 'arr_delay',\n",
       "       'crs_elapsed_time', 'Origintotalsnow_cm', 'OriginwindchillC',\n",
       "       'OriginwindgustKmph', 'Origincloudcover', 'OriginprecipMM',\n",
       "       'Originvisibility', 'Destintotalsnow_cm', 'DestinwindchillC',\n",
       "       'DestinwindgustKmph', 'Destincloudcover', 'DestinprecipMM',\n",
       "       'Destinvisibility', 'op_unique_carrier_9E', 'op_unique_carrier_9K',\n",
       "       'op_unique_carrier_AA', 'op_unique_carrier_AS', 'op_unique_carrier_AX',\n",
       "       'op_unique_carrier_B6', 'op_unique_carrier_C5', 'op_unique_carrier_CP',\n",
       "       'op_unique_carrier_DL', 'op_unique_carrier_EM', 'op_unique_carrier_EV',\n",
       "       'op_unique_carrier_F9', 'op_unique_carrier_G4', 'op_unique_carrier_G7',\n",
       "       'op_unique_carrier_HA', 'op_unique_carrier_KS', 'op_unique_carrier_MQ',\n",
       "       'op_unique_carrier_NK', 'op_unique_carrier_OH', 'op_unique_carrier_OO',\n",
       "       'op_unique_carrier_PT', 'op_unique_carrier_QX', 'op_unique_carrier_UA',\n",
       "       'op_unique_carrier_VX', 'op_unique_carrier_WN', 'op_unique_carrier_YV',\n",
       "       'op_unique_carrier_YX', 'op_unique_carrier_ZW', 'DayOfWeek',\n",
       "       'arr_delay_airline'],\n",
       "      dtype='object')"
      ]
     },
     "execution_count": 97,
     "metadata": {},
     "output_type": "execute_result"
    }
   ],
   "source": [
    "X_test.columns"
   ]
  },
  {
   "cell_type": "code",
   "execution_count": 98,
   "id": "bcb4ad43",
   "metadata": {},
   "outputs": [],
   "source": [
    "#now drop the 'op_unique_carrier','arr_delay' for testing and training set"
   ]
  },
  {
   "cell_type": "code",
   "execution_count": 99,
   "id": "d361261d",
   "metadata": {},
   "outputs": [],
   "source": [
    "X_test.drop(['op_unique_carrier','arr_delay'],axis=1,inplace=True)"
   ]
  },
  {
   "cell_type": "code",
   "execution_count": 100,
   "id": "0cdbd662",
   "metadata": {},
   "outputs": [],
   "source": [
    "X_train.drop(['op_unique_carrier','arr_delay'],axis=1,inplace=True)"
   ]
  },
  {
   "cell_type": "code",
   "execution_count": 110,
   "id": "b6b8888f",
   "metadata": {},
   "outputs": [
    {
     "data": {
      "text/plain": [
       "65079     169.0\n",
       "26694     -21.0\n",
       "446656     87.0\n",
       "132540    256.0\n",
       "97648     -20.0\n",
       "          ...  \n",
       "533660    -41.0\n",
       "105595      8.0\n",
       "617841    -18.0\n",
       "443712     10.0\n",
       "345353     -6.0\n",
       "Name: arr_delay, Length: 536528, dtype: float64"
      ]
     },
     "execution_count": 110,
     "metadata": {},
     "output_type": "execute_result"
    }
   ],
   "source": [
    "y_train"
   ]
  },
  {
   "cell_type": "code",
   "execution_count": 111,
   "id": "6616208d",
   "metadata": {},
   "outputs": [
    {
     "data": {
      "text/plain": [
       "220866     10.0\n",
       "339093     -8.0\n",
       "12517      85.0\n",
       "593502     -6.0\n",
       "58130       7.0\n",
       "          ...  \n",
       "270407    -25.0\n",
       "617889    -38.0\n",
       "300232      0.0\n",
       "481030     -6.0\n",
       "471708    100.0\n",
       "Name: arr_delay, Length: 178843, dtype: float64"
      ]
     },
     "execution_count": 111,
     "metadata": {},
     "output_type": "execute_result"
    }
   ],
   "source": [
    "y_test"
   ]
  },
  {
   "cell_type": "markdown",
   "id": "a9bf6517",
   "metadata": {},
   "source": [
    "#### Normalization"
   ]
  },
  {
   "cell_type": "code",
   "execution_count": 107,
   "id": "ced1f369",
   "metadata": {},
   "outputs": [],
   "source": [
    "scale=StandardScaler()"
   ]
  },
  {
   "cell_type": "code",
   "execution_count": 115,
   "id": "7982f02b",
   "metadata": {},
   "outputs": [],
   "source": [
    "X_train=scale.fit(X_train)"
   ]
  },
  {
   "cell_type": "code",
   "execution_count": 114,
   "id": "1f18abe6",
   "metadata": {},
   "outputs": [],
   "source": [
    "X_test=scale.fit(X_test)"
   ]
  },
  {
   "cell_type": "code",
   "execution_count": null,
   "id": "f527b988",
   "metadata": {},
   "outputs": [],
   "source": []
  }
 ],
 "metadata": {
  "kernelspec": {
   "display_name": "ml_env",
   "language": "python",
   "name": "ml_env"
  },
  "language_info": {
   "codemirror_mode": {
    "name": "ipython",
    "version": 3
   },
   "file_extension": ".py",
   "mimetype": "text/x-python",
   "name": "python",
   "nbconvert_exporter": "python",
   "pygments_lexer": "ipython3",
   "version": "3.9.12"
  },
  "toc": {
   "base_numbering": 1,
   "nav_menu": {},
   "number_sections": true,
   "sideBar": true,
   "skip_h1_title": false,
   "title_cell": "Table of Contents",
   "title_sidebar": "Contents",
   "toc_cell": false,
   "toc_position": {},
   "toc_section_display": true,
   "toc_window_display": false
  }
 },
 "nbformat": 4,
 "nbformat_minor": 5
}
